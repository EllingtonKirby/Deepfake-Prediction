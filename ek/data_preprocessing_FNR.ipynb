{
 "cells": [
  {
   "cell_type": "code",
   "execution_count": 1,
   "metadata": {},
   "outputs": [],
   "source": [
    "import pandas as pd"
   ]
  },
  {
   "cell_type": "code",
   "execution_count": 4,
   "metadata": {},
   "outputs": [],
   "source": [
    "fake_df = pd.read_csv(\"../FNR_fake.csv\")\n",
    "real_df = pd.read_csv(\"../FNR_real.csv\")"
   ]
  },
  {
   "cell_type": "code",
   "execution_count": 7,
   "metadata": {},
   "outputs": [],
   "source": [
    "fake_df['all'] = fake_df['title'] + ' ' + fake_df['text']\n",
    "real_df['all'] = real_df['title'] + ' ' + real_df['text']"
   ]
  },
  {
   "cell_type": "code",
   "execution_count": 9,
   "metadata": {},
   "outputs": [],
   "source": [
    "from sklearn.feature_extraction.text import CountVectorizer\n",
    "import preprocessor as p"
   ]
  },
  {
   "cell_type": "code",
   "execution_count": 24,
   "metadata": {},
   "outputs": [],
   "source": [
    "def strip_emojis_links_and_compare_counts(filename, data,):\n",
    "    # Vectorize input\n",
    "    input_vectorizer = CountVectorizer()\n",
    "    input_vectorizer.fit_transform(data)\n",
    "    print(f\"Before cleaning, total token count is: {len(input_vectorizer.get_feature_names_out())}\")\n",
    "\n",
    "    with open(filename, 'w') as f:\n",
    "        data.to_json(f, orient='values')\n",
    "    \n",
    "    cleaned_output = p.clean_file(filename, [p.OPT.URL, p.OPT.EMOJI])\n",
    "    cleaned_data = pd.read_json(cleaned_output, typ='series')\n",
    "\n",
    "    # Vectorize output\n",
    "    output_vectorizer = CountVectorizer()\n",
    "    output_vectorizer.fit_transform(cleaned_data)\n",
    "    print(f\"After cleaning, total token count is: {len(output_vectorizer.get_feature_names_out())}\")\n",
    "\n",
    "    return cleaned_data\n",
    "\n",
    "def confirm_veectorized_word_count(data):\n",
    "    output_vectorizer = CountVectorizer()\n",
    "    output_vectorizer.fit_transform(data)\n",
    "    print(f\"After cleaning, total token count is: {len(output_vectorizer.get_feature_names_out())}\")"
   ]
  },
  {
   "cell_type": "code",
   "execution_count": 18,
   "metadata": {},
   "outputs": [
    {
     "name": "stdout",
     "output_type": "stream",
     "text": [
      "Before cleaning, total token count is: 15402\n",
      "Saved the cleaned tweets to:../datasets/14042023_163502634371_IU56xiXXUXTS_FNR_fake_titles.json\n",
      "After cleaning, total token count is: 17862\n"
     ]
    }
   ],
   "source": [
    "cleaned_fake_titles = strip_emojis_links_and_compare_counts('../datasets/FNR_fake_titles.json', fake_df['title'])"
   ]
  },
  {
   "cell_type": "code",
   "execution_count": 19,
   "metadata": {},
   "outputs": [
    {
     "name": "stdout",
     "output_type": "stream",
     "text": [
      "Before cleaning, total token count is: 94451\n",
      "Saved the cleaned tweets to:../datasets/14042023_163534801921_I9ssqNDhcGIa_FNR_fake_text.json\n",
      "After cleaning, total token count is: 74882\n"
     ]
    }
   ],
   "source": [
    "cleaned_fake_text = strip_emojis_links_and_compare_counts('../datasets/FNR_fake_text.json', fake_df['text'])"
   ]
  },
  {
   "cell_type": "code",
   "execution_count": 20,
   "metadata": {},
   "outputs": [],
   "source": [
    "fake_df['title'] = cleaned_fake_titles\n",
    "fake_df['text'] = cleaned_fake_text\n",
    "fake_df['all'] = fake_df['title'] + ' ' + fake_df['text']"
   ]
  },
  {
   "cell_type": "code",
   "execution_count": 28,
   "metadata": {},
   "outputs": [
    {
     "name": "stdout",
     "output_type": "stream",
     "text": [
      "Before cleaning, total token count is: 13464\n",
      "Saved the cleaned tweets to:../datasets/14042023_164049837012_cG42xA9UPveC_FNR_real_titles.json\n",
      "After cleaning, total token count is: 13334\n"
     ]
    }
   ],
   "source": [
    "cleaned_real_titles = strip_emojis_links_and_compare_counts('../datasets/FNR_real_titles.json', real_df['title'])"
   ]
  },
  {
   "cell_type": "code",
   "execution_count": 27,
   "metadata": {},
   "outputs": [
    {
     "name": "stdout",
     "output_type": "stream",
     "text": [
      "Before cleaning, total token count is: 74882\n",
      "Saved the cleaned tweets to:../datasets/14042023_164013880301_HnexSZsa4Oem_FNR_real_text.json\n",
      "After cleaning, total token count is: 74804\n"
     ]
    }
   ],
   "source": [
    "cleaned_real_text = strip_emojis_links_and_compare_counts('../datasets/FNR_real_text.json', fake_df['text'])"
   ]
  },
  {
   "cell_type": "code",
   "execution_count": 29,
   "metadata": {},
   "outputs": [],
   "source": [
    "real_df['title'] = cleaned_real_titles\n",
    "real_df['text'] = cleaned_real_text\n",
    "real_df['all'] = real_df['title'] + ' ' + real_df['text']"
   ]
  },
  {
   "cell_type": "code",
   "execution_count": 48,
   "metadata": {},
   "outputs": [
    {
     "name": "stdout",
     "output_type": "stream",
     "text": [
      "After cleaning, total token count is: 13334\n"
     ]
    }
   ],
   "source": [
    "confirm_veectorized_word_count(real_df['title'])"
   ]
  },
  {
   "cell_type": "code",
   "execution_count": 30,
   "metadata": {},
   "outputs": [],
   "source": [
    "fake_df.to_csv('../FNR_fake_processed.csv')\n",
    "real_df.to_csv('../FNR_real_processed.csv')"
   ]
  },
  {
   "cell_type": "code",
   "execution_count": 49,
   "metadata": {},
   "outputs": [],
   "source": [
    "test_df = pd.read_csv('../FNR_real_processed.csv')"
   ]
  },
  {
   "cell_type": "code",
   "execution_count": 50,
   "metadata": {},
   "outputs": [
    {
     "name": "stdout",
     "output_type": "stream",
     "text": [
      "After cleaning, total token count is: 13334\n"
     ]
    }
   ],
   "source": [
    "confirm_veectorized_word_count(test_df['title'].dropna())"
   ]
  }
 ],
 "metadata": {
  "kernelspec": {
   "display_name": "mlds-deepfake-prediction",
   "language": "python",
   "name": "python3"
  },
  "language_info": {
   "codemirror_mode": {
    "name": "ipython",
    "version": 3
   },
   "file_extension": ".py",
   "mimetype": "text/x-python",
   "name": "python",
   "nbconvert_exporter": "python",
   "pygments_lexer": "ipython3",
   "version": "3.10.10"
  },
  "orig_nbformat": 4
 },
 "nbformat": 4,
 "nbformat_minor": 2
}
