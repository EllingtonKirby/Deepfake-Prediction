{
 "cells": [
  {
   "cell_type": "code",
   "execution_count": 1,
   "metadata": {},
   "outputs": [],
   "source": [
    "import pandas as pd"
   ]
  },
  {
   "cell_type": "code",
   "execution_count": 2,
   "metadata": {},
   "outputs": [],
   "source": [
    "df = pd.read_csv('../WELFake_Dataset.csv')"
   ]
  },
  {
   "cell_type": "code",
   "execution_count": 3,
   "metadata": {},
   "outputs": [],
   "source": [
    "import dataset_preprocessor as preprocessor"
   ]
  },
  {
   "cell_type": "code",
   "execution_count": 4,
   "metadata": {},
   "outputs": [],
   "source": [
    "df = df.fillna('')"
   ]
  },
  {
   "cell_type": "code",
   "execution_count": 5,
   "metadata": {},
   "outputs": [
    {
     "name": "stdout",
     "output_type": "stream",
     "text": [
      "Before tokenizing, total token count is: 31138\n",
      "Cleaning file: removing numbers\n",
      "Saved the cleaned tweets to:../datasets/5PIKTMqbzq6Q_WELFake_titles.json\n",
      "Cleaning file: tokenizing urls, emojis, mentions, hashtags, and smileys\n",
      "Saved the tokenized tweets to:../datasets/rvuTnKK5pVMw_5PIKTMqbzq6Q_WELFake_titles.json\n",
      "After tokenizing, total token count is: 32886\n",
      "Removing stop words\n",
      "After stemming and removing stopwords, total token count is: 32699\n"
     ]
    }
   ],
   "source": [
    "tokenized_titles = preprocessor.tokenize_emojis_links_and_compare_counts('../datasets/WELFake_titles.json', df['title'])"
   ]
  },
  {
   "cell_type": "code",
   "execution_count": 6,
   "metadata": {},
   "outputs": [
    {
     "name": "stdout",
     "output_type": "stream",
     "text": [
      "Before tokenizing, total token count is: 243501\n",
      "Cleaning file: removing numbers\n",
      "Saved the cleaned tweets to:../datasets/Aoj1wyvc5RYp_WELFake_texts.json\n",
      "Cleaning file: tokenizing urls, emojis, mentions, hashtags, and smileys\n",
      "Saved the tokenized tweets to:../datasets/2r45E7jdqRaD_Aoj1wyvc5RYp_WELFake_texts.json\n",
      "After tokenizing, total token count is: 203307\n",
      "Removing stop words\n",
      "After stemming and removing stopwords, total token count is: 203289\n"
     ]
    }
   ],
   "source": [
    "tokenized_texts = preprocessor.tokenize_emojis_links_and_compare_counts('../datasets/WELFake_texts.json', df['text'])"
   ]
  },
  {
   "cell_type": "code",
   "execution_count": 7,
   "metadata": {},
   "outputs": [],
   "source": [
    "df['title'] = tokenized_titles\n",
    "df['text'] = tokenized_texts\n",
    "df['all'] = df['title'] + ' ' + df['text']"
   ]
  },
  {
   "cell_type": "code",
   "execution_count": 8,
   "metadata": {},
   "outputs": [],
   "source": [
    "df.to_csv('../WELFake_Dataset_processed_no_stemming.csv')"
   ]
  },
  {
   "cell_type": "code",
   "execution_count": 9,
   "metadata": {},
   "outputs": [],
   "source": [
    "test_df = pd.read_csv('../WELFake_Dataset_processed_no_stemming.csv')"
   ]
  },
  {
   "cell_type": "code",
   "execution_count": 10,
   "metadata": {},
   "outputs": [
    {
     "name": "stdout",
     "output_type": "stream",
     "text": [
      "After cleaning, total token count is: 203289\n"
     ]
    }
   ],
   "source": [
    "preprocessor.confirm_veectorized_word_count(test_df['text'].fillna(''))"
   ]
  }
 ],
 "metadata": {
  "kernelspec": {
   "display_name": "mlds-deepfake-prediction",
   "language": "python",
   "name": "python3"
  },
  "language_info": {
   "codemirror_mode": {
    "name": "ipython",
    "version": 3
   },
   "file_extension": ".py",
   "mimetype": "text/x-python",
   "name": "python",
   "nbconvert_exporter": "python",
   "pygments_lexer": "ipython3",
   "version": "3.10.10"
  },
  "orig_nbformat": 4
 },
 "nbformat": 4,
 "nbformat_minor": 2
}
