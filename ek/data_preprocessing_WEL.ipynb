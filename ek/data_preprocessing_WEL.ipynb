{
 "cells": [
  {
   "cell_type": "code",
   "execution_count": 1,
   "metadata": {},
   "outputs": [],
   "source": [
    "import pandas as pd"
   ]
  },
  {
   "cell_type": "code",
   "execution_count": 2,
   "metadata": {},
   "outputs": [],
   "source": [
    "df = pd.read_csv('../WELFake_Dataset.csv')"
   ]
  },
  {
   "cell_type": "code",
   "execution_count": 3,
   "metadata": {},
   "outputs": [
    {
     "ename": "ModuleNotFoundError",
     "evalue": "No module named 'preprocessor'",
     "output_type": "error",
     "traceback": [
      "\u001b[0;31m---------------------------------------------------------------------------\u001b[0m",
      "\u001b[0;31mModuleNotFoundError\u001b[0m                       Traceback (most recent call last)",
      "Cell \u001b[0;32mIn[3], line 1\u001b[0m\n\u001b[0;32m----> 1\u001b[0m \u001b[39mimport\u001b[39;00m \u001b[39mdataset_preprocessor\u001b[39;00m \u001b[39mas\u001b[39;00m \u001b[39mpreprocessor\u001b[39;00m\n",
      "File \u001b[0;32m~/dev/masters/Fake-News-Prediction/ek/dataset_preprocessor.py:1\u001b[0m\n\u001b[0;32m----> 1\u001b[0m \u001b[39mimport\u001b[39;00m \u001b[39mpreprocessor\u001b[39;00m \u001b[39mas\u001b[39;00m \u001b[39mp\u001b[39;00m\n\u001b[1;32m      2\u001b[0m \u001b[39mimport\u001b[39;00m \u001b[39mpandas\u001b[39;00m \u001b[39mas\u001b[39;00m \u001b[39mpd\u001b[39;00m\n\u001b[1;32m      3\u001b[0m \u001b[39mfrom\u001b[39;00m \u001b[39msklearn\u001b[39;00m\u001b[39m.\u001b[39;00m\u001b[39mfeature_extraction\u001b[39;00m\u001b[39m.\u001b[39;00m\u001b[39mtext\u001b[39;00m \u001b[39mimport\u001b[39;00m CountVectorizer\n",
      "\u001b[0;31mModuleNotFoundError\u001b[0m: No module named 'preprocessor'"
     ]
    }
   ],
   "source": [
    "import dataset_preprocessor as preprocessor"
   ]
  },
  {
   "cell_type": "code",
   "execution_count": 4,
   "metadata": {},
   "outputs": [],
   "source": [
    "df = df.fillna('')"
   ]
  },
  {
   "cell_type": "code",
   "execution_count": 5,
   "metadata": {},
   "outputs": [
    {
     "name": "stdout",
     "output_type": "stream",
     "text": [
      "Before tokenizing, total token count is: 31138\n",
      "Saved the tokenized tweets to:../datasets/aWkjxA2IfqU3_WELFake_titles.json\n",
      "After tokenizing, total token count is: 32890\n"
     ]
    }
   ],
   "source": [
    "tokenized_titles = preprocessor.tokenize_emojis_links_and_compare_counts('../datasets/WELFake_titles.json', df['title'])"
   ]
  },
  {
   "cell_type": "code",
   "execution_count": 6,
   "metadata": {},
   "outputs": [
    {
     "name": "stdout",
     "output_type": "stream",
     "text": [
      "Before tokenizing, total token count is: 243501\n",
      "Saved the tokenized tweets to:../datasets/0vhpLviCN7F8_WELFake_texts.json\n",
      "After tokenizing, total token count is: 208840\n"
     ]
    }
   ],
   "source": [
    "tokenized_texts = preprocessor.tokenize_emojis_links_and_compare_counts('../datasets/WELFake_texts.json', df['text'])"
   ]
  },
  {
   "cell_type": "code",
   "execution_count": 7,
   "metadata": {},
   "outputs": [],
   "source": [
    "df['title'] = tokenized_titles\n",
    "df['text'] = tokenized_texts\n",
    "df['all'] = df['title'] + ' ' + df['text']"
   ]
  },
  {
   "cell_type": "code",
   "execution_count": 8,
   "metadata": {},
   "outputs": [],
   "source": [
    "df.to_csv('../WELFake_Dataset_processed.csv')"
   ]
  },
  {
   "cell_type": "code",
   "execution_count": 9,
   "metadata": {},
   "outputs": [],
   "source": [
    "test_df = pd.read_csv('../WELFake_Dataset_processed.csv')"
   ]
  },
  {
   "cell_type": "code",
   "execution_count": 10,
   "metadata": {},
   "outputs": [
    {
     "name": "stdout",
     "output_type": "stream",
     "text": [
      "After cleaning, total token count is: 208840\n"
     ]
    }
   ],
   "source": [
    "preprocessor.confirm_veectorized_word_count(test_df['text'].fillna(''))"
   ]
  }
 ],
 "metadata": {
  "kernelspec": {
   "display_name": "mlds-deepfake-prediction",
   "language": "python",
   "name": "python3"
  },
  "language_info": {
   "codemirror_mode": {
    "name": "ipython",
    "version": 3
   },
   "file_extension": ".py",
   "mimetype": "text/x-python",
   "name": "python",
   "nbconvert_exporter": "python",
   "pygments_lexer": "ipython3",
   "version": "3.10.10"
  },
  "orig_nbformat": 4
 },
 "nbformat": 4,
 "nbformat_minor": 2
}
