{
 "cells": [
  {
   "cell_type": "code",
   "execution_count": 1,
   "metadata": {},
   "outputs": [],
   "source": [
    "import pandas as pd"
   ]
  },
  {
   "cell_type": "code",
   "execution_count": 2,
   "metadata": {},
   "outputs": [],
   "source": [
    "fake_df = pd.read_csv(\"../FNR_fake.csv\")\n",
    "real_df = pd.read_csv(\"../FNR_real.csv\")"
   ]
  },
  {
   "cell_type": "code",
   "execution_count": 3,
   "metadata": {},
   "outputs": [],
   "source": [
    "from sklearn.feature_extraction.text import CountVectorizer"
   ]
  },
  {
   "cell_type": "code",
   "execution_count": 4,
   "metadata": {},
   "outputs": [],
   "source": [
    "import dataset_preprocessor as preprocessor"
   ]
  },
  {
   "cell_type": "code",
   "execution_count": 5,
   "metadata": {},
   "outputs": [
    {
     "name": "stdout",
     "output_type": "stream",
     "text": [
      "Before tokenizing, total token count is: 15402\n",
      "Saved the tokenized tweets to:../datasets/mXjPagNra4ml_FNR_fake_titles.json\n",
      "After tokenizing, total token count is: 18013\n"
     ]
    }
   ],
   "source": [
    "cleaned_fake_titles = preprocessor.tokenize_emojis_links_and_compare_counts('../datasets/FNR_fake_titles.json', fake_df['title'])"
   ]
  },
  {
   "cell_type": "code",
   "execution_count": 6,
   "metadata": {},
   "outputs": [
    {
     "name": "stdout",
     "output_type": "stream",
     "text": [
      "Before tokenizing, total token count is: 94451\n",
      "Saved the tokenized tweets to:../datasets/IUcNtcmrTvE9_FNR_fake_text.json\n",
      "After tokenizing, total token count is: 77227\n"
     ]
    }
   ],
   "source": [
    "cleaned_fake_text = preprocessor.tokenize_emojis_links_and_compare_counts('../datasets/FNR_fake_text.json', fake_df['text'])"
   ]
  },
  {
   "cell_type": "code",
   "execution_count": 7,
   "metadata": {},
   "outputs": [],
   "source": [
    "fake_df['title'] = cleaned_fake_titles\n",
    "fake_df['text'] = cleaned_fake_text\n",
    "fake_df['all'] = fake_df['title'] + ' ' + fake_df['text']"
   ]
  },
  {
   "cell_type": "code",
   "execution_count": 8,
   "metadata": {},
   "outputs": [
    {
     "name": "stdout",
     "output_type": "stream",
     "text": [
      "Before tokenizing, total token count is: 13464\n",
      "Saved the tokenized tweets to:../datasets/yJAWcpgXuitx_FNR_real_titles.json\n",
      "After tokenizing, total token count is: 13482\n"
     ]
    }
   ],
   "source": [
    "cleaned_real_titles = preprocessor.tokenize_emojis_links_and_compare_counts('../datasets/FNR_real_titles.json', real_df['title'])"
   ]
  },
  {
   "cell_type": "code",
   "execution_count": 9,
   "metadata": {},
   "outputs": [
    {
     "name": "stdout",
     "output_type": "stream",
     "text": [
      "Before tokenizing, total token count is: 77227\n",
      "Saved the tokenized tweets to:../datasets/tKUfqSQBQ9NE_FNR_real_text.json\n",
      "After tokenizing, total token count is: 77227\n"
     ]
    }
   ],
   "source": [
    "cleaned_real_text = preprocessor.tokenize_emojis_links_and_compare_counts('../datasets/FNR_real_text.json', fake_df['text'])"
   ]
  },
  {
   "cell_type": "code",
   "execution_count": 10,
   "metadata": {},
   "outputs": [],
   "source": [
    "real_df['title'] = cleaned_real_titles\n",
    "real_df['text'] = cleaned_real_text\n",
    "real_df['all'] = real_df['title'] + ' ' + real_df['text']"
   ]
  },
  {
   "cell_type": "code",
   "execution_count": 11,
   "metadata": {},
   "outputs": [
    {
     "name": "stdout",
     "output_type": "stream",
     "text": [
      "After cleaning, total token count is: 13482\n"
     ]
    }
   ],
   "source": [
    "preprocessor.confirm_veectorized_word_count(real_df['title'])"
   ]
  },
  {
   "cell_type": "code",
   "execution_count": 12,
   "metadata": {},
   "outputs": [],
   "source": [
    "fake_df.to_csv('../FNR_fake_processed.csv')\n",
    "real_df.to_csv('../FNR_real_processed.csv')"
   ]
  },
  {
   "cell_type": "code",
   "execution_count": 13,
   "metadata": {},
   "outputs": [],
   "source": [
    "test_df = pd.read_csv('../FNR_real_processed.csv')"
   ]
  },
  {
   "cell_type": "code",
   "execution_count": 14,
   "metadata": {},
   "outputs": [
    {
     "name": "stdout",
     "output_type": "stream",
     "text": [
      "After cleaning, total token count is: 13482\n"
     ]
    }
   ],
   "source": [
    "preprocessor.confirm_veectorized_word_count(test_df['title'].dropna())"
   ]
  }
 ],
 "metadata": {
  "kernelspec": {
   "display_name": "Python 3 (ipykernel)",
   "language": "python",
   "name": "python3"
  },
  "language_info": {
   "codemirror_mode": {
    "name": "ipython",
    "version": 3
   },
   "file_extension": ".py",
   "mimetype": "text/x-python",
   "name": "python",
   "nbconvert_exporter": "python",
   "pygments_lexer": "ipython3",
   "version": "3.9.12"
  }
 },
 "nbformat": 4,
 "nbformat_minor": 2
}
