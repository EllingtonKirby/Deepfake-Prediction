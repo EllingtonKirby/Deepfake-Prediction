{
 "cells": [
  {
   "cell_type": "code",
   "execution_count": 1,
   "id": "fdb3d8fd",
   "metadata": {},
   "outputs": [],
   "source": [
    "import pandas as pd\n",
    "from matplotlib.pylab import plt\n",
    "import numpy as np\n",
    "from wordcloud import WordCloud\n",
    "from wordcloud import ImageColorGenerator\n",
    "from wordcloud import STOPWORDS\n",
    "from nltk.stem.snowball import SnowballStemmer\n",
    "import json\n",
    "import requests"
   ]
  },
  {
   "cell_type": "code",
   "execution_count": 2,
   "id": "62297263",
   "metadata": {},
   "outputs": [],
   "source": [
    "df = pd.read_csv(\"../processed_datasets/WELFake_Dataset_processed.csv\")"
   ]
  },
  {
   "cell_type": "code",
   "execution_count": 3,
   "id": "aeeaa38e",
   "metadata": {},
   "outputs": [
    {
     "data": {
      "text/html": [
       "<div>\n",
       "<style scoped>\n",
       "    .dataframe tbody tr th:only-of-type {\n",
       "        vertical-align: middle;\n",
       "    }\n",
       "\n",
       "    .dataframe tbody tr th {\n",
       "        vertical-align: top;\n",
       "    }\n",
       "\n",
       "    .dataframe thead th {\n",
       "        text-align: right;\n",
       "    }\n",
       "</style>\n",
       "<table border=\"1\" class=\"dataframe\">\n",
       "  <thead>\n",
       "    <tr style=\"text-align: right;\">\n",
       "      <th></th>\n",
       "      <th>title</th>\n",
       "      <th>text</th>\n",
       "      <th>label</th>\n",
       "      <th>all</th>\n",
       "      <th>length</th>\n",
       "      <th>stem</th>\n",
       "    </tr>\n",
       "  </thead>\n",
       "  <tbody>\n",
       "    <tr>\n",
       "      <th>0</th>\n",
       "      <td>LAW ENFORCEMENT ON HIGH ALERT Following Threat...</td>\n",
       "      <td>No comment is expected from Barack Obama Membe...</td>\n",
       "      <td>1</td>\n",
       "      <td>law enforcement high alert threats cops whites...</td>\n",
       "      <td>4250</td>\n",
       "      <td>law enforc high alert threat cop white $number...</td>\n",
       "    </tr>\n",
       "    <tr>\n",
       "      <th>1</th>\n",
       "      <td></td>\n",
       "      <td>Did they post their votes for Hillary already?</td>\n",
       "      <td>1</td>\n",
       "      <td>post votes hillary already?</td>\n",
       "      <td>39</td>\n",
       "      <td>post vote hillari already?</td>\n",
       "    </tr>\n",
       "    <tr>\n",
       "      <th>2</th>\n",
       "      <td>UNBELIEVABLE! OBAMAS ATTORNEY GENERAL SAYS MOS...</td>\n",
       "      <td>Now, most of the demonstrators gathered last n...</td>\n",
       "      <td>1</td>\n",
       "      <td>unbelievable! obamas attorney general charlott...</td>\n",
       "      <td>295</td>\n",
       "      <td>unbelievable! obama attorney general charlott ...</td>\n",
       "    </tr>\n",
       "    <tr>\n",
       "      <th>3</th>\n",
       "      <td>Bobby Jindal, raised Hindu, uses story of Chri...</td>\n",
       "      <td>A dozen politically active pastors came here f...</td>\n",
       "      <td>0</td>\n",
       "      <td>bobby jindal, raised hindu, story christian co...</td>\n",
       "      <td>6736</td>\n",
       "      <td>bobbi jindal, rais hindu, stori christian conv...</td>\n",
       "    </tr>\n",
       "    <tr>\n",
       "      <th>4</th>\n",
       "      <td>SATAN $NUMBER$: Russia unvelis an image of its...</td>\n",
       "      <td>The RS-28 Sarmat missile, dubbed Satan $NUMBER...</td>\n",
       "      <td>1</td>\n",
       "      <td>satan $number$: russia unvelis image terrifyin...</td>\n",
       "      <td>1733</td>\n",
       "      <td>satan $number$: russia unv imag terrifi supern...</td>\n",
       "    </tr>\n",
       "  </tbody>\n",
       "</table>\n",
       "</div>"
      ],
      "text/plain": [
       "                                               title  \\\n",
       "0  LAW ENFORCEMENT ON HIGH ALERT Following Threat...   \n",
       "1                                                      \n",
       "2  UNBELIEVABLE! OBAMAS ATTORNEY GENERAL SAYS MOS...   \n",
       "3  Bobby Jindal, raised Hindu, uses story of Chri...   \n",
       "4  SATAN $NUMBER$: Russia unvelis an image of its...   \n",
       "\n",
       "                                                text  label  \\\n",
       "0  No comment is expected from Barack Obama Membe...      1   \n",
       "1     Did they post their votes for Hillary already?      1   \n",
       "2  Now, most of the demonstrators gathered last n...      1   \n",
       "3  A dozen politically active pastors came here f...      0   \n",
       "4  The RS-28 Sarmat missile, dubbed Satan $NUMBER...      1   \n",
       "\n",
       "                                                 all  length  \\\n",
       "0  law enforcement high alert threats cops whites...    4250   \n",
       "1                        post votes hillary already?      39   \n",
       "2  unbelievable! obamas attorney general charlott...     295   \n",
       "3  bobby jindal, raised hindu, story christian co...    6736   \n",
       "4  satan $number$: russia unvelis image terrifyin...    1733   \n",
       "\n",
       "                                                stem  \n",
       "0  law enforc high alert threat cop white $number...  \n",
       "1                         post vote hillari already?  \n",
       "2  unbelievable! obama attorney general charlott ...  \n",
       "3  bobbi jindal, rais hindu, stori christian conv...  \n",
       "4  satan $number$: russia unv imag terrifi supern...  "
      ]
     },
     "execution_count": 3,
     "metadata": {},
     "output_type": "execute_result"
    }
   ],
   "source": [
    "#Removing all of the NaN values\n",
    "df.head(5)"
   ]
  },
  {
   "cell_type": "code",
   "execution_count": 4,
   "id": "abfe33b7",
   "metadata": {},
   "outputs": [
    {
     "name": "stdout",
     "output_type": "stream",
     "text": [
      "Ratio of news\n",
      "Reliable    0.51404\n",
      "Fake        0.48596\n",
      "Name: label, dtype: float64\n"
     ]
    }
   ],
   "source": [
    "print(f'Ratio of news')\n",
    "print(df.label.value_counts(normalize = True).rename({1:'Reliable',0:'Fake'}))"
   ]
  },
  {
   "cell_type": "code",
   "execution_count": 5,
   "id": "af0c2c74",
   "metadata": {},
   "outputs": [
    {
     "data": {
      "text/html": [
       "<div>\n",
       "<style scoped>\n",
       "    .dataframe tbody tr th:only-of-type {\n",
       "        vertical-align: middle;\n",
       "    }\n",
       "\n",
       "    .dataframe tbody tr th {\n",
       "        vertical-align: top;\n",
       "    }\n",
       "\n",
       "    .dataframe thead th {\n",
       "        text-align: right;\n",
       "    }\n",
       "</style>\n",
       "<table border=\"1\" class=\"dataframe\">\n",
       "  <thead>\n",
       "    <tr style=\"text-align: right;\">\n",
       "      <th></th>\n",
       "      <th>title</th>\n",
       "      <th>text</th>\n",
       "      <th>label</th>\n",
       "      <th>all</th>\n",
       "      <th>length</th>\n",
       "      <th>stem</th>\n",
       "    </tr>\n",
       "  </thead>\n",
       "  <tbody>\n",
       "    <tr>\n",
       "      <th>0</th>\n",
       "      <td>LAW ENFORCEMENT ON HIGH ALERT Following Threat...</td>\n",
       "      <td>No comment is expected from Barack Obama Membe...</td>\n",
       "      <td>1</td>\n",
       "      <td>law enforcement high alert threats cops whites...</td>\n",
       "      <td>4250</td>\n",
       "      <td>law enforc high alert threat cop white $number...</td>\n",
       "    </tr>\n",
       "    <tr>\n",
       "      <th>1</th>\n",
       "      <td></td>\n",
       "      <td>Did they post their votes for Hillary already?</td>\n",
       "      <td>1</td>\n",
       "      <td>post votes hillary already?</td>\n",
       "      <td>39</td>\n",
       "      <td>post vote hillari already?</td>\n",
       "    </tr>\n",
       "    <tr>\n",
       "      <th>2</th>\n",
       "      <td>UNBELIEVABLE! OBAMAS ATTORNEY GENERAL SAYS MOS...</td>\n",
       "      <td>Now, most of the demonstrators gathered last n...</td>\n",
       "      <td>1</td>\n",
       "      <td>unbelievable! obamas attorney general charlott...</td>\n",
       "      <td>295</td>\n",
       "      <td>unbelievable! obama attorney general charlott ...</td>\n",
       "    </tr>\n",
       "    <tr>\n",
       "      <th>3</th>\n",
       "      <td>Bobby Jindal, raised Hindu, uses story of Chri...</td>\n",
       "      <td>A dozen politically active pastors came here f...</td>\n",
       "      <td>0</td>\n",
       "      <td>bobby jindal, raised hindu, story christian co...</td>\n",
       "      <td>6736</td>\n",
       "      <td>bobbi jindal, rais hindu, stori christian conv...</td>\n",
       "    </tr>\n",
       "    <tr>\n",
       "      <th>4</th>\n",
       "      <td>SATAN $NUMBER$: Russia unvelis an image of its...</td>\n",
       "      <td>The RS-28 Sarmat missile, dubbed Satan $NUMBER...</td>\n",
       "      <td>1</td>\n",
       "      <td>satan $number$: russia unvelis image terrifyin...</td>\n",
       "      <td>1733</td>\n",
       "      <td>satan $number$: russia unv imag terrifi supern...</td>\n",
       "    </tr>\n",
       "  </tbody>\n",
       "</table>\n",
       "</div>"
      ],
      "text/plain": [
       "                                               title  \\\n",
       "0  LAW ENFORCEMENT ON HIGH ALERT Following Threat...   \n",
       "1                                                      \n",
       "2  UNBELIEVABLE! OBAMAS ATTORNEY GENERAL SAYS MOS...   \n",
       "3  Bobby Jindal, raised Hindu, uses story of Chri...   \n",
       "4  SATAN $NUMBER$: Russia unvelis an image of its...   \n",
       "\n",
       "                                                text  label  \\\n",
       "0  No comment is expected from Barack Obama Membe...      1   \n",
       "1     Did they post their votes for Hillary already?      1   \n",
       "2  Now, most of the demonstrators gathered last n...      1   \n",
       "3  A dozen politically active pastors came here f...      0   \n",
       "4  The RS-28 Sarmat missile, dubbed Satan $NUMBER...      1   \n",
       "\n",
       "                                                 all  length  \\\n",
       "0  law enforcement high alert threats cops whites...    4250   \n",
       "1                        post votes hillary already?      39   \n",
       "2  unbelievable! obamas attorney general charlott...     295   \n",
       "3  bobby jindal, raised hindu, story christian co...    6736   \n",
       "4  satan $number$: russia unvelis image terrifyin...    1733   \n",
       "\n",
       "                                                stem  \n",
       "0  law enforc high alert threat cop white $number...  \n",
       "1                         post vote hillari already?  \n",
       "2  unbelievable! obama attorney general charlott ...  \n",
       "3  bobbi jindal, rais hindu, stori christian conv...  \n",
       "4  satan $number$: russia unv imag terrifi supern...  "
      ]
     },
     "execution_count": 5,
     "metadata": {},
     "output_type": "execute_result"
    }
   ],
   "source": [
    "df = df.fillna(' ')\n",
    "df.head()"
   ]
  },
  {
   "cell_type": "code",
   "execution_count": 79,
   "id": "13e1b15d",
   "metadata": {},
   "outputs": [
    {
     "data": {
      "text/html": [
       "<div>\n",
       "<style scoped>\n",
       "    .dataframe tbody tr th:only-of-type {\n",
       "        vertical-align: middle;\n",
       "    }\n",
       "\n",
       "    .dataframe tbody tr th {\n",
       "        vertical-align: top;\n",
       "    }\n",
       "\n",
       "    .dataframe thead th {\n",
       "        text-align: right;\n",
       "    }\n",
       "</style>\n",
       "<table border=\"1\" class=\"dataframe\">\n",
       "  <thead>\n",
       "    <tr style=\"text-align: right;\">\n",
       "      <th></th>\n",
       "      <th>title</th>\n",
       "      <th>text</th>\n",
       "      <th>label</th>\n",
       "      <th>all</th>\n",
       "      <th>length</th>\n",
       "      <th>stem</th>\n",
       "    </tr>\n",
       "  </thead>\n",
       "  <tbody>\n",
       "    <tr>\n",
       "      <th>0</th>\n",
       "      <td>LAW ENFORCEMENT ON HIGH ALERT Following Threat...</td>\n",
       "      <td>No comment is expected from Barack Obama Membe...</td>\n",
       "      <td>1</td>\n",
       "      <td>LAW ENFORCEMENT ON HIGH ALERT Following Threat...</td>\n",
       "      <td>4250</td>\n",
       "      <td>law enforc high alert threat cop white $number...</td>\n",
       "    </tr>\n",
       "    <tr>\n",
       "      <th>1</th>\n",
       "      <td></td>\n",
       "      <td>Did they post their votes for Hillary already?</td>\n",
       "      <td>1</td>\n",
       "      <td>Did they post their votes for Hillary already?</td>\n",
       "      <td>39</td>\n",
       "      <td>post vote hillari already?</td>\n",
       "    </tr>\n",
       "    <tr>\n",
       "      <th>2</th>\n",
       "      <td>UNBELIEVABLE! OBAMAS ATTORNEY GENERAL SAYS MOS...</td>\n",
       "      <td>Now, most of the demonstrators gathered last n...</td>\n",
       "      <td>1</td>\n",
       "      <td>UNBELIEVABLE! OBAMAS ATTORNEY GENERAL SAYS MOS...</td>\n",
       "      <td>295</td>\n",
       "      <td>unbelievable! obama attorney general charlott ...</td>\n",
       "    </tr>\n",
       "    <tr>\n",
       "      <th>3</th>\n",
       "      <td>Bobby Jindal, raised Hindu, uses story of Chri...</td>\n",
       "      <td>A dozen politically active pastors came here f...</td>\n",
       "      <td>0</td>\n",
       "      <td>Bobby Jindal, raised Hindu, uses story of Chri...</td>\n",
       "      <td>6736</td>\n",
       "      <td>bobbi jindal, rais hindu, stori christian conv...</td>\n",
       "    </tr>\n",
       "    <tr>\n",
       "      <th>4</th>\n",
       "      <td>SATAN $NUMBER$: Russia unvelis an image of its...</td>\n",
       "      <td>The RS-28 Sarmat missile, dubbed Satan $NUMBER...</td>\n",
       "      <td>1</td>\n",
       "      <td>SATAN $NUMBER$: Russia unvelis an image of its...</td>\n",
       "      <td>1733</td>\n",
       "      <td>satan $number$: russia unv imag terrifi supern...</td>\n",
       "    </tr>\n",
       "  </tbody>\n",
       "</table>\n",
       "</div>"
      ],
      "text/plain": [
       "                                               title  \\\n",
       "0  LAW ENFORCEMENT ON HIGH ALERT Following Threat...   \n",
       "1                                                      \n",
       "2  UNBELIEVABLE! OBAMAS ATTORNEY GENERAL SAYS MOS...   \n",
       "3  Bobby Jindal, raised Hindu, uses story of Chri...   \n",
       "4  SATAN $NUMBER$: Russia unvelis an image of its...   \n",
       "\n",
       "                                                text  label  \\\n",
       "0  No comment is expected from Barack Obama Membe...      1   \n",
       "1     Did they post their votes for Hillary already?      1   \n",
       "2  Now, most of the demonstrators gathered last n...      1   \n",
       "3  A dozen politically active pastors came here f...      0   \n",
       "4  The RS-28 Sarmat missile, dubbed Satan $NUMBER...      1   \n",
       "\n",
       "                                                 all  length  \\\n",
       "0  LAW ENFORCEMENT ON HIGH ALERT Following Threat...    4250   \n",
       "1     Did they post their votes for Hillary already?      39   \n",
       "2  UNBELIEVABLE! OBAMAS ATTORNEY GENERAL SAYS MOS...     295   \n",
       "3  Bobby Jindal, raised Hindu, uses story of Chri...    6736   \n",
       "4  SATAN $NUMBER$: Russia unvelis an image of its...    1733   \n",
       "\n",
       "                                                stem  \n",
       "0  law enforc high alert threat cop white $number...  \n",
       "1                         post vote hillari already?  \n",
       "2  unbelievable! obama attorney general charlott ...  \n",
       "3  bobbi jindal, rais hindu, stori christian conv...  \n",
       "4  satan $number$: russia unv imag terrifi supern...  "
      ]
     },
     "execution_count": 79,
     "metadata": {},
     "output_type": "execute_result"
    }
   ],
   "source": [
    "df[\"all\"] = df[\"title\"] + df[\"text\"]\n",
    "df.head()"
   ]
  },
  {
   "cell_type": "code",
   "execution_count": 80,
   "id": "8f394726",
   "metadata": {},
   "outputs": [],
   "source": [
    "df[\"length\"] = df[\"title\"].apply(lambda n: len(n.split()))"
   ]
  },
  {
   "cell_type": "code",
   "execution_count": 81,
   "id": "3b54623f",
   "metadata": {},
   "outputs": [
    {
     "name": "stdout",
     "output_type": "stream",
     "text": [
      "(32072,)\n",
      "(30320,)\n"
     ]
    }
   ],
   "source": [
    "fake_lengths = df[df[\"label\"] == 1][\"length\"]\n",
    "real_lengths = df[df['label'] == 0][\"length\"]\n",
    "print(fake_lengths.shape)\n",
    "print(real_lengths.shape)"
   ]
  },
  {
   "cell_type": "code",
   "execution_count": 82,
   "id": "655b16b0",
   "metadata": {},
   "outputs": [
    {
     "data": {
      "image/png": "[encoded data removed]",
      "text/plain": [
       "<Figure size 864x576 with 2 Axes>"
      ]
     },
     "metadata": {
      "needs_background": "light"
     },
     "output_type": "display_data"
    }
   ],
   "source": [
    "fig,(ax1,ax2)=plt.subplots(1,2,figsize=(12,8))\n",
    "ax1.hist(fake_lengths,color='red')\n",
    "ax1.set_title('Fake text')\n",
    "ax2.hist(real_lengths,color='green')\n",
    "ax2.set_title('Real text')\n",
    "fig.suptitle('Words in texts')\n",
    "plt.show()"
   ]
  },
  {
   "cell_type": "code",
   "execution_count": 83,
   "id": "50f048fc",
   "metadata": {},
   "outputs": [],
   "source": [
    "#Removing stopwords\n",
    "f = open(\"../stop_words_english.json\").read()\n",
    "response = pd.DataFrame(data = json.loads(f))\n",
    "df['all'] = df['all'].str.lower()\n",
    "SW = list(response[0])\n",
    "df['all'] = df['all'].apply(\n",
    "    lambda x: ' '.join([word for word in x.split() if word not in (SW)]))"
   ]
  },
  {
   "cell_type": "code",
   "execution_count": 84,
   "id": "5d85a226",
   "metadata": {},
   "outputs": [],
   "source": [
    "#Stemming words\n",
    "stemmer = SnowballStemmer('english')\n",
    "df['stem'] = df['all'].apply(\n",
    "    lambda x:' '.join([stemmer.stem(y) for y in x.split()]))"
   ]
  },
  {
   "cell_type": "code",
   "execution_count": 6,
   "id": "23584060",
   "metadata": {},
   "outputs": [
    {
     "name": "stderr",
     "output_type": "stream",
     "text": [
      "/tmp/ipykernel_331/1371957293.py:3: FutureWarning: The default value of regex will change from True to False in a future version.\n",
      "  df_text = df_text.str.replace('\\d+', '')\n",
      "/tmp/ipykernel_331/1371957293.py:4: FutureWarning: The default value of regex will change from True to False in a future version.\n",
      "  df_text = df_text.str.replace('$number$', '')\n"
     ]
    }
   ],
   "source": [
    "#Removing numbers\n",
    "df_text = df['stem'].copy()\n",
    "df_text = df_text.str.replace('\\d+', '')\n",
    "df_text = df_text.str.replace('$number$', '')"
   ]
  },
  {
   "cell_type": "code",
   "execution_count": 7,
   "id": "13611c9c",
   "metadata": {},
   "outputs": [
    {
     "name": "stderr",
     "output_type": "stream",
     "text": [
      "/tmp/ipykernel_331/3708347329.py:2: FutureWarning: The default value of regex will change from True to False in a future version. In addition, single character regular expressions will *not* be treated as literal strings when regex=True.\n",
      "  df['all'] = df['all'].str.replace('$','')\n",
      "/tmp/ipykernel_331/3708347329.py:3: FutureWarning: The default value of regex will change from True to False in a future version.\n",
      "  df['all'] = df['all'].str.replace('[^\\w\\s]','')\n",
      "/tmp/ipykernel_331/3708347329.py:4: FutureWarning: The default value of regex will change from True to False in a future version. In addition, single character regular expressions will *not* be treated as literal strings when regex=True.\n",
      "  df['stem'] = df_text.str.replace('$','')\n"
     ]
    },
    {
     "data": {
      "text/html": [
       "<div>\n",
       "<style scoped>\n",
       "    .dataframe tbody tr th:only-of-type {\n",
       "        vertical-align: middle;\n",
       "    }\n",
       "\n",
       "    .dataframe tbody tr th {\n",
       "        vertical-align: top;\n",
       "    }\n",
       "\n",
       "    .dataframe thead th {\n",
       "        text-align: right;\n",
       "    }\n",
       "</style>\n",
       "<table border=\"1\" class=\"dataframe\">\n",
       "  <thead>\n",
       "    <tr style=\"text-align: right;\">\n",
       "      <th></th>\n",
       "      <th>title</th>\n",
       "      <th>text</th>\n",
       "      <th>label</th>\n",
       "      <th>all</th>\n",
       "      <th>length</th>\n",
       "      <th>stem</th>\n",
       "    </tr>\n",
       "  </thead>\n",
       "  <tbody>\n",
       "    <tr>\n",
       "      <th>0</th>\n",
       "      <td>LAW ENFORCEMENT ON HIGH ALERT Following Threat...</td>\n",
       "      <td>No comment is expected from Barack Obama Membe...</td>\n",
       "      <td>1</td>\n",
       "      <td>law enforcement high alert threats cops whites...</td>\n",
       "      <td>4250</td>\n",
       "      <td>law enforc high alert threat cop white number-...</td>\n",
       "    </tr>\n",
       "    <tr>\n",
       "      <th>1</th>\n",
       "      <td></td>\n",
       "      <td>Did they post their votes for Hillary already?</td>\n",
       "      <td>1</td>\n",
       "      <td>post votes hillary already</td>\n",
       "      <td>39</td>\n",
       "      <td>post vote hillari already?</td>\n",
       "    </tr>\n",
       "    <tr>\n",
       "      <th>2</th>\n",
       "      <td>UNBELIEVABLE! OBAMAS ATTORNEY GENERAL SAYS MOS...</td>\n",
       "      <td>Now, most of the demonstrators gathered last n...</td>\n",
       "      <td>1</td>\n",
       "      <td>unbelievable obamas attorney general charlotte...</td>\n",
       "      <td>295</td>\n",
       "      <td>unbelievable! obama attorney general charlott ...</td>\n",
       "    </tr>\n",
       "    <tr>\n",
       "      <th>3</th>\n",
       "      <td>Bobby Jindal, raised Hindu, uses story of Chri...</td>\n",
       "      <td>A dozen politically active pastors came here f...</td>\n",
       "      <td>0</td>\n",
       "      <td>bobby jindal raised hindu story christian conv...</td>\n",
       "      <td>6736</td>\n",
       "      <td>bobbi jindal, rais hindu, stori christian conv...</td>\n",
       "    </tr>\n",
       "    <tr>\n",
       "      <th>4</th>\n",
       "      <td>SATAN $NUMBER$: Russia unvelis an image of its...</td>\n",
       "      <td>The RS-28 Sarmat missile, dubbed Satan $NUMBER...</td>\n",
       "      <td>1</td>\n",
       "      <td>satan  russia unvelis image terrifying supernu...</td>\n",
       "      <td>1733</td>\n",
       "      <td>satan number: russia unv imag terrifi supernuk...</td>\n",
       "    </tr>\n",
       "  </tbody>\n",
       "</table>\n",
       "</div>"
      ],
      "text/plain": [
       "                                               title  \\\n",
       "0  LAW ENFORCEMENT ON HIGH ALERT Following Threat...   \n",
       "1                                                      \n",
       "2  UNBELIEVABLE! OBAMAS ATTORNEY GENERAL SAYS MOS...   \n",
       "3  Bobby Jindal, raised Hindu, uses story of Chri...   \n",
       "4  SATAN $NUMBER$: Russia unvelis an image of its...   \n",
       "\n",
       "                                                text  label  \\\n",
       "0  No comment is expected from Barack Obama Membe...      1   \n",
       "1     Did they post their votes for Hillary already?      1   \n",
       "2  Now, most of the demonstrators gathered last n...      1   \n",
       "3  A dozen politically active pastors came here f...      0   \n",
       "4  The RS-28 Sarmat missile, dubbed Satan $NUMBER...      1   \n",
       "\n",
       "                                                 all  length  \\\n",
       "0  law enforcement high alert threats cops whites...    4250   \n",
       "1                         post votes hillary already      39   \n",
       "2  unbelievable obamas attorney general charlotte...     295   \n",
       "3  bobby jindal raised hindu story christian conv...    6736   \n",
       "4  satan  russia unvelis image terrifying supernu...    1733   \n",
       "\n",
       "                                                stem  \n",
       "0  law enforc high alert threat cop white number-...  \n",
       "1                         post vote hillari already?  \n",
       "2  unbelievable! obama attorney general charlott ...  \n",
       "3  bobbi jindal, rais hindu, stori christian conv...  \n",
       "4  satan number: russia unv imag terrifi supernuk...  "
      ]
     },
     "execution_count": 7,
     "metadata": {},
     "output_type": "execute_result"
    }
   ],
   "source": [
    "df['all'] = df['all'].str.replace('number','')\n",
    "df['all'] = df['all'].str.replace('$','')\n",
    "df['all'] = df['all'].str.replace('[^\\w\\s]','')\n",
    "df['stem'] = df_text.str.replace('$','')\n",
    "df.head()"
   ]
  },
  {
   "cell_type": "code",
   "execution_count": 75,
   "id": "45cfcdfb",
   "metadata": {},
   "outputs": [
    {
     "data": {
      "image/png": "[encoded data removed]",
      "text/plain": [
       "<Figure size 720x432 with 1 Axes>"
      ]
     },
     "metadata": {
      "needs_background": "light"
     },
     "output_type": "display_data"
    }
   ],
   "source": [
    "#Most used words in each type of news\n",
    "from collections import Counter\n",
    "word_freq = Counter(' '.join(df[df['label'] == 0]['all']).split())\n",
    "df_word_freq = pd.DataFrame.from_dict(word_freq, orient='index', columns=['frequency']).sort_values(by='frequency', ascending=False)\n",
    "df_word_freq.head(20).plot(kind='bar', figsize=(10, 6))\n",
    "plt.title('20 Most Common Words')\n",
    "plt.xlabel('Words')\n",
    "plt.ylabel('Frequency')\n",
    "plt.show()"
   ]
  },
  {
   "cell_type": "code",
   "execution_count": 78,
   "id": "a73d112e",
   "metadata": {},
   "outputs": [
    {
     "data": {
      "image/png": "[encoded data removed]",
      "text/plain": [
       "<Figure size 720x432 with 1 Axes>"
      ]
     },
     "metadata": {
      "needs_background": "light"
     },
     "output_type": "display_data"
    }
   ],
   "source": [
    "#top bigrams\n",
    "from nltk import ngrams\n",
    "bigrams = [bigram for text in df[df['label']==0]['all'] for bigram in ngrams(text.split(), 2)]\n",
    "bigram_freq = Counter(bigrams)\n",
    "df_bigram_freq = pd.DataFrame.from_dict(bigram_freq, orient='index', columns=['frequency']).sort_values(by='frequency', ascending=False)\n",
    "df_bigram_freq.head(20).plot(kind='bar', figsize=(10, 6))\n",
    "plt.title('20 Most Common Bigrams')\n",
    "plt.xlabel('Bigrams')\n",
    "plt.ylabel('Frequency')\n",
    "plt.show()"
   ]
  },
  {
   "cell_type": "code",
   "execution_count": 8,
   "id": "4e289560",
   "metadata": {},
   "outputs": [],
   "source": [
    "from sklearn.model_selection import train_test_split\n",
    "#Splitting training and testing data\n",
    "train_labels = df['label']\n",
    "x_train,x_test,y_train,y_test = train_test_split(df[\"stem\"],train_labels,test_size = 0.3)\n",
    "from sklearn.feature_extraction.text import TfidfVectorizer\n",
    "tfidf = TfidfVectorizer(stop_words = 'english', max_df = 0.9,min_df = 0.1)\n",
    "tfidf_train = tfidf.fit_transform(x_train)\n",
    "tfidf_test = tfidf.transform(x_test)"
   ]
  },
  {
   "cell_type": "code",
   "execution_count": 9,
   "id": "213d1030",
   "metadata": {},
   "outputs": [
    {
     "name": "stdout",
     "output_type": "stream",
     "text": [
      "(43674, 242)\n"
     ]
    }
   ],
   "source": [
    "print(tfidf_train.shape)"
   ]
  },
  {
   "cell_type": "markdown",
   "id": "9fc6343a",
   "metadata": {},
   "source": [
    "Training the model using kf cross validation"
   ]
  },
  {
   "cell_type": "code",
   "execution_count": 10,
   "id": "1b30b92b",
   "metadata": {},
   "outputs": [],
   "source": [
    "from sklearn.svm import SVC\n",
    "from sklearn.feature_extraction.text import TfidfVectorizer\n",
    "from sklearn.model_selection import GridSearchCV, KFold\n",
    "from sklearn.linear_model import PassiveAggressiveClassifier\n",
    "from sklearn.ensemble import RandomForestClassifier\n",
    "from sklearn.linear_model import LogisticRegression\n",
    "from sklearn.naive_bayes import MultinomialNB\n",
    "\n",
    "def cross_validate_train(X,y,num_folds,clf):\n",
    "    \n",
    "    if clf == 'SVC':\n",
    "        clf = SVC()\n",
    "        print(clf.get_params())\n",
    "        param_grid = {\n",
    "            'C': [0.1, 1, 10, 100],\n",
    "            'kernel': ['linear', 'rbf']\n",
    "        }\n",
    "    elif clf == 'NB':\n",
    "        clf = MultinomialNB()\n",
    "        param_grid = {  \n",
    "            'alpha': (1, 0.1, 0.01, 0.001, 0.0001, 0.00001)  \n",
    "        }\n",
    "    elif clf == 'PAC':\n",
    "        clf = PassiveAggressiveClassifier()\n",
    "        param_grid = {'C': [0.1, 1, 10]}\n",
    "\n",
    "    elif clf == 'random_forest':\n",
    "        clf = RandomForestClassifier()\n",
    "        param_grid = {\n",
    "            'n_estimators': [100, 200, 300]\n",
    "        }\n",
    "    else:\n",
    "        clf = LogisticRegression(max_iter = 2000)\n",
    "        param_grid = {'C': [0.01, 0.1, 1, 10, 100]}\n",
    "    \n",
    "    grid_search = GridSearchCV(clf, param_grid=param_grid, cv=num_folds, n_jobs=-1, verbose=1)\n",
    "    grid_search.fit(X, y)\n",
    "    best_params = grid_search.best_params_\n",
    "    best_score = grid_search.best_score_\n",
    "\n",
    "    return best_params, best_score\n",
    "    "
   ]
  },
  {
   "cell_type": "code",
   "execution_count": 13,
   "id": "5efa9a02",
   "metadata": {},
   "outputs": [],
   "source": [
    "\n",
    "def search_models(k):\n",
    "    params,score = cross_validate_train(tfidf_train,y_train,k,'SVC')\n",
    "    print(\"Best svc for k =\",k,params,score)\n",
    "    best_params_pac,best_score_pac = cross_validate_train(tfidf_train,y_train,k,'PAC')\n",
    "    print(\"Best pac for k =\",k,best_params_pac,best_score_pac)\n",
    "    best_params_log,best_score_log = cross_validate_train(tfidf_train,y_train,k,'log')\n",
    "    print(\"Best log for k =\",k,best_params_log,best_score_log)\n",
    "    best_params_nb,best_score_nb = cross_validate_train(tfidf_train,y_train,k,'NB')\n",
    "    print(\"Best nb for k =\",k,best_params_nb,best_score_nb)\n",
    "    best_params_rf,best_score_rf = cross_validate_train(tfidf_train,y_train,k,'random_forest')\n",
    "    print(\"Best rf for k =\",k,best_params_rf,best_score_rf)"
   ]
  },
  {
   "cell_type": "code",
   "execution_count": 67,
   "id": "a59f8ed0",
   "metadata": {},
   "outputs": [
    {
     "name": "stdout",
     "output_type": "stream",
     "text": [
      "['accus' 'action' 'administr' 'agenc' 'america' 'american' 'announc'\n",
      " 'anti' 'appear' 'ask' 'attack' 'attempt' 'author' 'barack' 'base' 'big'\n",
      " 'bring' 'build' 'busi' 'campaign' 'candid' 'care' 'case' 'center' 'chang'\n",
      " 'charg' 'chief' 'citi' 'claim' 'clear' 'clinton' 'close' 'come' 'comment'\n",
      " 'compani' 'concern' 'congress' 'conserv' 'continu' 'control' 'countri'\n",
      " 'country' 'court' 'creat' 'critic' 'day' 'deal' 'decid' 'decis'\n",
      " 'democrat' 'depart' 'director' 'discuss' 'don' 'donald' 'dont' 'earli'\n",
      " 'earlier' 'effort' 'elect' 'election' 'email' 'execut' 'expect' 'face'\n",
      " 'fact' 'fail' 'famili' 'featur' 'feder' 'feel' 'fight' 'final' 'follow'\n",
      " 'forc' 'foreign' 'free' 'friday' 'fund' 'general' 'good' 'govern' 'great'\n",
      " 'group' 'hand' 'happen' 'hard' 'head' 'held' 'help' 'high' 'hillari'\n",
      " 'hold' 'hope' 'hous' 'imag' 'includ' 'increas' 'intern' 'interview'\n",
      " 'investig' 'involv' 'issu' 'job' 'john' 'kill' 'kind' 'law' 'lead'\n",
      " 'leader' 'leav' 'left' 'legal' 'life' 'live' 'long' 'lot' 'major' 'make'\n",
      " 'man' 'matter' 'media' 'meet' 'member' 'mention' 'militari' 'minist'\n",
      " 'monday' 'money' 'month' 'mr' 'nation' 'news' 'night' 'north' 'number'\n",
      " 'obama' 'offer' 'offic' 'offici' 'open' 'oper' 'order' 'organ' 'parti'\n",
      " 'pass' 'pay' 'peopl' 'people' 'percent' 'person' 'place' 'plan' 'play'\n",
      " 'point' 'polic' 'polici' 'polit' 'posit' 'post' 'power' 'presid'\n",
      " 'president' 'presidenti' 'press' 'problem' 'process' 'program' 'protect'\n",
      " 'public' 'push' 'question' 'rais' 'reach' 'read' 'real' 'reason' 'receiv'\n",
      " 'record' 'releas' 'remain' 'report' 'repres' 'republican' 'respons'\n",
      " 'return' 'reuters' 'right' 'rule' 'run' 'russia' 'said' 'secretari'\n",
      " 'secur' 'seek' 'senat' 'serv' 'set' 'share' 'sign' 'social' 'speak'\n",
      " 'speech' 'stand' 'start' 'state' 'statement' 'states' 'step' 'stori'\n",
      " 'support' 'talk' 'term' 'th' 'thursday' 'time' 'today' 'told' 'trump'\n",
      " 'tuesday' 'turn' 'twitter' 'unit' 'url' 'video' 'view' 'vote' 'want'\n",
      " 'war' 'washington' 'watch' 'way' 'wednesday' 'week' 'white' 'win' 'women'\n",
      " 'won' 'work' 'world' 'wrote' 'year' 'years' 'york']\n"
     ]
    }
   ],
   "source": [
    "feature_names = tfidf.get_feature_names_out()\n",
    "print(feature_names)"
   ]
  },
  {
   "cell_type": "code",
   "execution_count": 11,
   "id": "bc541b0e",
   "metadata": {},
   "outputs": [],
   "source": [
    "import pickle"
   ]
  },
  {
   "cell_type": "code",
   "execution_count": 14,
   "id": "f21c4ee1",
   "metadata": {},
   "outputs": [
    {
     "name": "stdout",
     "output_type": "stream",
     "text": [
      "{'C': 1.0, 'break_ties': False, 'cache_size': 200, 'class_weight': None, 'coef0': 0.0, 'decision_function_shape': 'ovr', 'degree': 3, 'gamma': 'scale', 'kernel': 'rbf', 'max_iter': -1, 'probability': False, 'random_state': None, 'shrinking': True, 'tol': 0.001, 'verbose': False}\n",
      "Fitting 5 folds for each of 8 candidates, totalling 40 fits\n",
      "Best svc for k = 5 {'C': 10, 'kernel': 'rbf'} 0.9471539302745301\n",
      "Fitting 5 folds for each of 3 candidates, totalling 15 fits\n",
      "Best pac for k = 5 {'C': 0.1} 0.9213490993556425\n",
      "Fitting 5 folds for each of 5 candidates, totalling 25 fits\n",
      "Best log for k = 5 {'C': 100} 0.922219180671396\n",
      "Fitting 5 folds for each of 6 candidates, totalling 30 fits\n",
      "Best nb for k = 5 {'alpha': 0.1} 0.8528186669312658\n",
      "Fitting 5 folds for each of 3 candidates, totalling 15 fits\n",
      "Best rf for k = 5 {'n_estimators': 300} 0.9436735814177963\n",
      "{'C': 1.0, 'break_ties': False, 'cache_size': 200, 'class_weight': None, 'coef0': 0.0, 'decision_function_shape': 'ovr', 'degree': 3, 'gamma': 'scale', 'kernel': 'rbf', 'max_iter': -1, 'probability': False, 'random_state': None, 'shrinking': True, 'tol': 0.001, 'verbose': False}\n",
      "Fitting 6 folds for each of 8 candidates, totalling 48 fits\n",
      "Best svc for k = 6 {'C': 10, 'kernel': 'rbf'} 0.9477721298713192\n",
      "Fitting 6 folds for each of 3 candidates, totalling 18 fits\n",
      "Best pac for k = 6 {'C': 0.1} 0.9204561066080506\n",
      "Fitting 6 folds for each of 5 candidates, totalling 30 fits\n",
      "Best log for k = 6 {'C': 100} 0.9225168292347851\n",
      "Fitting 6 folds for each of 6 candidates, totalling 36 fits\n",
      "Best nb for k = 6 {'alpha': 0.1} 0.8529330952053855\n",
      "Fitting 6 folds for each of 3 candidates, totalling 18 fits\n",
      "Best rf for k = 6 {'n_estimators': 300} 0.9443375921600953\n",
      "{'C': 1.0, 'break_ties': False, 'cache_size': 200, 'class_weight': None, 'coef0': 0.0, 'decision_function_shape': 'ovr', 'degree': 3, 'gamma': 'scale', 'kernel': 'rbf', 'max_iter': -1, 'probability': False, 'random_state': None, 'shrinking': True, 'tol': 0.001, 'verbose': False}\n",
      "Fitting 7 folds for each of 8 candidates, totalling 56 fits\n",
      "Best svc for k = 7 {'C': 10, 'kernel': 'rbf'} 0.9475201813066454\n",
      "Fitting 7 folds for each of 3 candidates, totalling 21 fits\n",
      "Best pac for k = 7 {'C': 0.1} 0.9202956764344808\n",
      "Fitting 7 folds for each of 5 candidates, totalling 35 fits\n",
      "Best log for k = 7 {'C': 100} 0.9229059665157198\n",
      "Fitting 7 folds for each of 6 candidates, totalling 42 fits\n",
      "Best nb for k = 7 {'alpha': 0.1} 0.8528643783021488\n",
      "Fitting 7 folds for each of 3 candidates, totalling 21 fits\n",
      "Best rf for k = 7 {'n_estimators': 300} 0.9442688398981475\n"
     ]
    }
   ],
   "source": [
    "ix = [5,6,7]\n",
    "for i in ix:\n",
    "    search_models(i)"
   ]
  },
  {
   "cell_type": "code",
   "execution_count": 15,
   "id": "92bf774a",
   "metadata": {},
   "outputs": [
    {
     "name": "stdout",
     "output_type": "stream",
     "text": [
      "done\n",
      "done\n",
      "done\n",
      "done\n",
      "done\n"
     ]
    }
   ],
   "source": [
    "#Creating each classifier\n",
    "svm_classifier = SVC(C = 10,kernel = 'rbf')\n",
    "log_classifier = LogisticRegression(C = 100,max_iter = 2000)\n",
    "rf_classifier = RandomForestClassifier(n_estimators = 300)\n",
    "pac_classifier = PassiveAggressiveClassifier(C = 0.1)\n",
    "nb_classifier = MultinomialNB(alpha = 0.1)\n",
    "\n",
    "clf_list = [svm_classifier,log_classifier,rf_classifier,pac_classifier,nb_classifier]\n",
    "clf_names = [\"SVM\",\"Logistic Regression\",\"Random Forest\",\"Passive Agressive Classifier\",\"Naive Bayes\"]\n",
    "for i in range(len(clf_list)):\n",
    "    clf_list[i].fit(tfidf_train,y_train)\n",
    "    filename = clf_names[i] + \".sav\"\n",
    "    pickle.dump(clf_list[i], open(filename, 'wb'))\n",
    "    print(\"done\")"
   ]
  },
  {
   "cell_type": "code",
   "execution_count": 11,
   "id": "ada02769",
   "metadata": {},
   "outputs": [],
   "source": [
    "from sklearn import metrics\n",
    "\n",
    "\n",
    "#Training the best models\n",
    "def evaluate(model_name,model,test_set,test_labels):\n",
    "    predicted = model.predict(test_set)\n",
    "    print(model_name + \"Accuracy:\",metrics.accuracy_score(test_labels, predicted))\n",
    "    print(model_name +\"Precision:\",metrics.precision_score(test_labels, predicted))\n",
    "    print(model_name +\"Recall:\",metrics.recall_score(test_labels, predicted))\n",
    "    print(model_name +\"Matthews Coefficient:\",metrics.matthews_corrcoef(test_labels, predicted))"
   ]
  },
  {
   "cell_type": "code",
   "execution_count": 64,
   "id": "7ff17447",
   "metadata": {},
   "outputs": [],
   "source": [
    "svm_classifier = pickle.load(open(\"classifiers/SVM.sav\", 'rb'))\n",
    "log_classifier = pickle.load(open(\"classifiers/Logistic Regression.sav\", 'rb'))\n",
    "rf_classifier = pickle.load(open(\"classifiers/Random Forest.sav\", 'rb'))\n",
    "pac_classifier = pickle.load(open(\"classifiers/Passive Agressive Classifier.sav\", 'rb'))\n",
    "nb_classifier = pickle.load(open(\"classifiers/Naive Bayes.sav\", 'rb'))"
   ]
  },
  {
   "cell_type": "code",
   "execution_count": 23,
   "id": "7c50ee52",
   "metadata": {},
   "outputs": [
    {
     "name": "stdout",
     "output_type": "stream",
     "text": [
      "SVMAccuracy: 0.9527193076183353\n",
      "SVMPrecision: 0.9450232078390923\n",
      "SVMRecall: 0.9630018919487072\n",
      "SVMMatthews Coefficient: 0.9055519232888102\n",
      "Logistic RegressionAccuracy: 0.9218933646757133\n",
      "Logistic RegressionPrecision: 0.913007796471071\n",
      "Logistic RegressionRecall: 0.9354635274332562\n",
      "Logistic RegressionMatthews Coefficient: 0.8439433161775731\n",
      "Random ForestAccuracy: 0.9469494604124372\n",
      "Random ForestPrecision: 0.9249875311720698\n",
      "Random ForestRecall: 0.9746689089762456\n",
      "Random ForestMatthews Coefficient: 0.8951121080809927\n",
      "Passive Agressive ClassifierAccuracy: 0.920397478363073\n",
      "Passive Agressive ClassifierPrecision: 0.902407221664995\n",
      "Passive Agressive ClassifierRecall: 0.9456590287996637\n",
      "Passive Agressive ClassifierMatthews Coefficient: 0.841624379984082\n",
      "Naive BayesAccuracy: 0.8550593012073939\n",
      "Naive BayesPrecision: 0.8511824847671177\n",
      "Naive BayesRecall: 0.866302291360101\n",
      "Naive BayesMatthews Coefficient: 0.7100682136092105\n"
     ]
    }
   ],
   "source": [
    "clf_list = [svm_classifier,log_classifier,rf_classifier,pac_classifier,nb_classifier]\n",
    "clf_names = [\"SVM\",\"Logistic Regression\",\"Random Forest\",\"Passive Agressive Classifier\",\"Naive Bayes\"]\n",
    "for i in range(len(clf_list)):\n",
    "    evaluate(clf_names[i],clf_list[i],tfidf_test,y_test)"
   ]
  },
  {
   "cell_type": "markdown",
   "id": "6ab1c772",
   "metadata": {},
   "source": [
    "Implementing the voting classifier"
   ]
  },
  {
   "cell_type": "code",
   "execution_count": 12,
   "id": "3cefbabb",
   "metadata": {},
   "outputs": [
    {
     "data": {
      "text/plain": [
       "VotingClassifier(estimators=[('SVM', SVC(C=10)),\n",
       "                             ('LR', LogisticRegression(C=100, max_iter=2000)),\n",
       "                             ('RF', RandomForestClassifier(n_estimators=300)),\n",
       "                             ('PAC', PassiveAggressiveClassifier(C=0.1)),\n",
       "                             ('NB', MultinomialNB(alpha=0.1))])"
      ]
     },
     "execution_count": 12,
     "metadata": {},
     "output_type": "execute_result"
    }
   ],
   "source": [
    "from sklearn.ensemble import VotingClassifier\n",
    "\n",
    "svm_classifier = SVC(C = 10,kernel = 'rbf')\n",
    "log_classifier = LogisticRegression(C = 100,max_iter = 2000)\n",
    "rf_classifier = RandomForestClassifier(n_estimators = 300)\n",
    "pac_classifier = PassiveAggressiveClassifier(C = 0.1)\n",
    "nb_classifier = MultinomialNB(alpha = 0.1)\n",
    "ens_list = [('SVM',svm_classifier),('LR',log_classifier),('RF',rf_classifier),('PAC',pac_classifier),('NB',nb_classifier)]\n",
    "vot_hard = VotingClassifier(estimators = ens_list, voting ='hard')\n",
    "vot_hard.fit(tfidf_train, y_train)\n"
   ]
  },
  {
   "cell_type": "code",
   "execution_count": 36,
   "id": "5524a655",
   "metadata": {},
   "outputs": [
    {
     "name": "stdout",
     "output_type": "stream",
     "text": [
      "Hard voting classifierAccuracy: 0.9350892189336467\n",
      "Hard voting classifierPrecision: 0.9204579997973452\n",
      "Hard voting classifierRecall: 0.9548034475509775\n",
      "Hard voting classifierMatthews Coefficient: 0.8706888974334901\n"
     ]
    }
   ],
   "source": [
    "evaluate(\"Hard voting classifier\",vot_hard,tfidf_test,y_test)"
   ]
  },
  {
   "cell_type": "code",
   "execution_count": 15,
   "id": "5fbf375b",
   "metadata": {},
   "outputs": [
    {
     "data": {
      "text/plain": [
       "VotingClassifier(estimators=[('SVM', SVC(C=10)),\n",
       "                             ('RF', RandomForestClassifier(n_estimators=300))])"
      ]
     },
     "execution_count": 15,
     "metadata": {},
     "output_type": "execute_result"
    }
   ],
   "source": [
    "svm_classifier = SVC(C = 10,kernel = 'rbf')\n",
    "rf_classifier = RandomForestClassifier(n_estimators = 300)\n",
    "ens_list = [('SVM',svm_classifier),('RF',rf_classifier)]\n",
    "vot_hard = VotingClassifier(estimators = ens_list, voting ='hard')\n",
    "vot_hard.fit(tfidf_train, y_train)"
   ]
  },
  {
   "cell_type": "code",
   "execution_count": 19,
   "id": "1fc64026",
   "metadata": {},
   "outputs": [],
   "source": [
    "filename = \"classifiers/voting.sav\"\n",
    "pickle.dump(vot_hard, open(filename, 'wb'))"
   ]
  },
  {
   "cell_type": "code",
   "execution_count": 38,
   "id": "60e44b78",
   "metadata": {},
   "outputs": [
    {
     "name": "stdout",
     "output_type": "stream",
     "text": [
      "Hard voting classifierAccuracy: 0.9533069772411582\n",
      "Hard voting classifierPrecision: 0.9571428571428572\n",
      "Hard voting classifierRecall: 0.9507042253521126\n",
      "Hard voting classifierMatthews Coefficient: 0.9066201190001392\n"
     ]
    }
   ],
   "source": [
    "evaluate(\"Hard voting classifier\",vot_hard,tfidf_test,y_test)"
   ]
  },
  {
   "cell_type": "code",
   "execution_count": 39,
   "id": "04e894dc",
   "metadata": {},
   "outputs": [],
   "source": [
    "log_classifier = pickle.load(open(\"classifiers/Logistic Regression.sav\", 'rb'))\n",
    "rf_classifier = pickle.load(open(\"classifiers/Random Forest.sav\", 'rb'))\n",
    "pac_classifier = pickle.load(open(\"classifiers/Passive Agressive Classifier.sav\", 'rb'))\n",
    "nb_classifier = pickle.load(open(\"classifiers/Naive Bayes.sav\", 'rb'))"
   ]
  },
  {
   "cell_type": "code",
   "execution_count": 127,
   "id": "4824cc09",
   "metadata": {},
   "outputs": [
    {
     "data": {
      "image/png": "[encoded data removed]",
      "text/plain": [
       "<Figure size 432x288 with 1 Axes>"
      ]
     },
     "metadata": {
      "needs_background": "light"
     },
     "output_type": "display_data"
    }
   ],
   "source": [
    "importances = rf_classifier.feature_importances_\n",
    "indices = np.argsort(importances)[::-1]\n",
    "feature_names = tfidf.get_feature_names_out()\n",
    "k = 20 \n",
    "plt.figure()\n",
    "plt.title(\"Feature importances\")\n",
    "plt.bar(range(k), importances[indices][:k], color=\"r\", align=\"center\")\n",
    "plt.xticks(range(k), [feature_names[i] for i in indices[:k]], rotation=90)\n",
    "plt.xlim([-1, k])\n",
    "plt.xlabel('Feature Name')\n",
    "plt.ylabel('Importance Score')\n",
    "plt.show()\n",
    "top_k_features = tfidf_train[:, indices[:k]]"
   ]
  },
  {
   "cell_type": "code",
   "execution_count": null,
   "id": "21b25b85",
   "metadata": {},
   "outputs": [],
   "source": []
  }
 ],
 "metadata": {
  "kernelspec": {
   "display_name": "Python 3 (ipykernel)",
   "language": "python",
   "name": "python3"
  },
  "language_info": {
   "codemirror_mode": {
    "name": "ipython",
    "version": 3
   },
   "file_extension": ".py",
   "mimetype": "text/x-python",
   "name": "python",
   "nbconvert_exporter": "python",
   "pygments_lexer": "ipython3",
   "version": "3.9.12"
  }
 },
 "nbformat": 4,
 "nbformat_minor": 5
}
