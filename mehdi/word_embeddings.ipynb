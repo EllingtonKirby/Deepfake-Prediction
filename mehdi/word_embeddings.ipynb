{
 "cells": [
  {
   "cell_type": "code",
   "execution_count": 1,
   "id": "d13e1efa",
   "metadata": {},
   "outputs": [],
   "source": [
    "import pandas as pd\n",
    "from matplotlib.pylab import plt\n",
    "import numpy as np\n",
    "import gensim\n"
   ]
  },
  {
   "cell_type": "code",
   "execution_count": 2,
   "id": "3841d40c",
   "metadata": {},
   "outputs": [],
   "source": [
    "df = pd.read_csv(\"../processed_datasets/WELFake_Dataset_processed.csv\")"
   ]
  },
  {
   "cell_type": "code",
   "execution_count": 3,
   "id": "2f5db149",
   "metadata": {},
   "outputs": [
    {
     "data": {
      "text/html": [
       "<div>\n",
       "<style scoped>\n",
       "    .dataframe tbody tr th:only-of-type {\n",
       "        vertical-align: middle;\n",
       "    }\n",
       "\n",
       "    .dataframe tbody tr th {\n",
       "        vertical-align: top;\n",
       "    }\n",
       "\n",
       "    .dataframe thead th {\n",
       "        text-align: right;\n",
       "    }\n",
       "</style>\n",
       "<table border=\"1\" class=\"dataframe\">\n",
       "  <thead>\n",
       "    <tr style=\"text-align: right;\">\n",
       "      <th></th>\n",
       "      <th>title</th>\n",
       "      <th>text</th>\n",
       "      <th>label</th>\n",
       "      <th>all</th>\n",
       "      <th>length</th>\n",
       "      <th>stem</th>\n",
       "    </tr>\n",
       "  </thead>\n",
       "  <tbody>\n",
       "    <tr>\n",
       "      <th>0</th>\n",
       "      <td>LAW ENFORCEMENT ON HIGH ALERT Following Threat...</td>\n",
       "      <td>No comment is expected from Barack Obama Membe...</td>\n",
       "      <td>1</td>\n",
       "      <td>law enforcement high alert threats cops whites...</td>\n",
       "      <td>4250</td>\n",
       "      <td>law enforc high alert threat cop white $number...</td>\n",
       "    </tr>\n",
       "    <tr>\n",
       "      <th>1</th>\n",
       "      <td></td>\n",
       "      <td>Did they post their votes for Hillary already?</td>\n",
       "      <td>1</td>\n",
       "      <td>post votes hillary already?</td>\n",
       "      <td>39</td>\n",
       "      <td>post vote hillari already?</td>\n",
       "    </tr>\n",
       "    <tr>\n",
       "      <th>2</th>\n",
       "      <td>UNBELIEVABLE! OBAMAS ATTORNEY GENERAL SAYS MOS...</td>\n",
       "      <td>Now, most of the demonstrators gathered last n...</td>\n",
       "      <td>1</td>\n",
       "      <td>unbelievable! obamas attorney general charlott...</td>\n",
       "      <td>295</td>\n",
       "      <td>unbelievable! obama attorney general charlott ...</td>\n",
       "    </tr>\n",
       "    <tr>\n",
       "      <th>3</th>\n",
       "      <td>Bobby Jindal, raised Hindu, uses story of Chri...</td>\n",
       "      <td>A dozen politically active pastors came here f...</td>\n",
       "      <td>0</td>\n",
       "      <td>bobby jindal, raised hindu, story christian co...</td>\n",
       "      <td>6736</td>\n",
       "      <td>bobbi jindal, rais hindu, stori christian conv...</td>\n",
       "    </tr>\n",
       "    <tr>\n",
       "      <th>4</th>\n",
       "      <td>SATAN $NUMBER$: Russia unvelis an image of its...</td>\n",
       "      <td>The RS-28 Sarmat missile, dubbed Satan $NUMBER...</td>\n",
       "      <td>1</td>\n",
       "      <td>satan $number$: russia unvelis image terrifyin...</td>\n",
       "      <td>1733</td>\n",
       "      <td>satan $number$: russia unv imag terrifi supern...</td>\n",
       "    </tr>\n",
       "  </tbody>\n",
       "</table>\n",
       "</div>"
      ],
      "text/plain": [
       "                                               title  \\\n",
       "0  LAW ENFORCEMENT ON HIGH ALERT Following Threat...   \n",
       "1                                                      \n",
       "2  UNBELIEVABLE! OBAMAS ATTORNEY GENERAL SAYS MOS...   \n",
       "3  Bobby Jindal, raised Hindu, uses story of Chri...   \n",
       "4  SATAN $NUMBER$: Russia unvelis an image of its...   \n",
       "\n",
       "                                                text  label  \\\n",
       "0  No comment is expected from Barack Obama Membe...      1   \n",
       "1     Did they post their votes for Hillary already?      1   \n",
       "2  Now, most of the demonstrators gathered last n...      1   \n",
       "3  A dozen politically active pastors came here f...      0   \n",
       "4  The RS-28 Sarmat missile, dubbed Satan $NUMBER...      1   \n",
       "\n",
       "                                                 all  length  \\\n",
       "0  law enforcement high alert threats cops whites...    4250   \n",
       "1                        post votes hillary already?      39   \n",
       "2  unbelievable! obamas attorney general charlott...     295   \n",
       "3  bobby jindal, raised hindu, story christian co...    6736   \n",
       "4  satan $number$: russia unvelis image terrifyin...    1733   \n",
       "\n",
       "                                                stem  \n",
       "0  law enforc high alert threat cop white $number...  \n",
       "1                         post vote hillari already?  \n",
       "2  unbelievable! obama attorney general charlott ...  \n",
       "3  bobbi jindal, rais hindu, stori christian conv...  \n",
       "4  satan $number$: russia unv imag terrifi supern...  "
      ]
     },
     "execution_count": 3,
     "metadata": {},
     "output_type": "execute_result"
    }
   ],
   "source": [
    "df.head()"
   ]
  },
  {
   "cell_type": "code",
   "execution_count": 4,
   "id": "ea791921",
   "metadata": {},
   "outputs": [],
   "source": [
    "df = df.fillna(' ')"
   ]
  },
  {
   "cell_type": "code",
   "execution_count": 5,
   "id": "cae45559",
   "metadata": {},
   "outputs": [],
   "source": [
    "import gensim.downloader as api\n"
   ]
  },
  {
   "cell_type": "markdown",
   "id": "d33fc411",
   "metadata": {},
   "source": [
    "Pre-trained glove vectors based on 2B tweets, 27B tokens, 1.2M vocab, uncased."
   ]
  },
  {
   "cell_type": "code",
   "execution_count": 6,
   "id": "1c1547e9",
   "metadata": {},
   "outputs": [],
   "source": [
    "glove = api.load('glove-twitter-50')"
   ]
  },
  {
   "cell_type": "code",
   "execution_count": 7,
   "id": "3d1c62dc",
   "metadata": {},
   "outputs": [],
   "source": [
    "def sent_2vec(sentence):\n",
    "    vector_size = glove.vector_size\n",
    "    glove_res = np.zeros(vector_size)\n",
    "    # print(wv_res)\n",
    "    cpt = 1\n",
    "    for w in sentence:\n",
    "        if w in glove:\n",
    "            cpt += 1\n",
    "            glove_res += glove[w]\n",
    "    glove_res = glove_res/cpt\n",
    "    return glove_res"
   ]
  },
  {
   "cell_type": "code",
   "execution_count": 8,
   "id": "0ea33bf0",
   "metadata": {},
   "outputs": [],
   "source": [
    "import nltk"
   ]
  },
  {
   "cell_type": "code",
   "execution_count": 9,
   "id": "aefa3394",
   "metadata": {},
   "outputs": [],
   "source": [
    "df['tokens'] = df.apply(lambda row: nltk.word_tokenize(row['all']), axis=1)"
   ]
  },
  {
   "cell_type": "code",
   "execution_count": 10,
   "id": "c087e5fc",
   "metadata": {},
   "outputs": [],
   "source": [
    "df['vec'] = df['tokens'].apply(sent_2vec)"
   ]
  },
  {
   "cell_type": "code",
   "execution_count": 11,
   "id": "55798666",
   "metadata": {},
   "outputs": [],
   "source": [
    "X = df['vec'].to_list()\n",
    "y = df['label'].to_list()"
   ]
  },
  {
   "cell_type": "code",
   "execution_count": 12,
   "id": "4c2bc534",
   "metadata": {},
   "outputs": [],
   "source": [
    "from sklearn.model_selection import train_test_split\n",
    "X_train, X_test, y_train, y_test = train_test_split(X, y, test_size=0.2,stratify=y)"
   ]
  },
  {
   "cell_type": "code",
   "execution_count": 13,
   "id": "4f9ff669",
   "metadata": {},
   "outputs": [],
   "source": [
    "from sklearn.svm import SVC\n",
    "from sklearn.feature_extraction.text import TfidfVectorizer\n",
    "from sklearn.model_selection import GridSearchCV, KFold\n",
    "from sklearn.linear_model import PassiveAggressiveClassifier\n",
    "from sklearn.ensemble import RandomForestClassifier\n",
    "from sklearn.linear_model import LogisticRegression\n",
    "from sklearn.naive_bayes import GaussianNB\n",
    "def cross_validate_train(X,y,num_folds,clf):\n",
    "    \n",
    "    if clf == 'SVC':\n",
    "        clf = SVC()\n",
    "        param_grid = {\n",
    "            'C': [0.1, 1, 10, 100],\n",
    "            'kernel': ['linear', 'rbf']\n",
    "        }\n",
    "    elif clf == 'NB':\n",
    "        clf = GaussianNB()\n",
    "        param_grid = {  \n",
    "            'var_smoothing': np.logspace(0,-9, num=100)\n",
    "        }\n",
    "    elif clf == 'PAC':\n",
    "        clf = PassiveAggressiveClassifier()\n",
    "        param_grid = {'C': [0.1, 1, 10]}\n",
    "\n",
    "    elif clf == 'random_forest':\n",
    "        clf = RandomForestClassifier()\n",
    "        param_grid = {\n",
    "            'n_estimators': [100, 200, 300]\n",
    "        }\n",
    "    else:\n",
    "        clf = LogisticRegression(max_iter = 2000)\n",
    "        param_grid = {'C': [0.01, 0.1, 1, 10, 100]}\n",
    "    \n",
    "    grid_search = GridSearchCV(clf, param_grid=param_grid, cv=num_folds, n_jobs=-1, verbose=1)\n",
    "    grid_search.fit(X, y)\n",
    "    best_params = grid_search.best_params_\n",
    "    best_score = grid_search.best_score_\n",
    "\n",
    "    return best_params, best_score\n",
    "    "
   ]
  },
  {
   "cell_type": "code",
   "execution_count": 14,
   "id": "3e8b2284",
   "metadata": {},
   "outputs": [],
   "source": [
    "\n",
    "def search_models(k):\n",
    "    params,score = cross_validate_train(X_train,y_train,k,'SVC')\n",
    "    print(\"Best svc for k =\",k,params,score)\n",
    "    best_params_pac,best_score_pac = cross_validate_train(X_train,y_train,k,'PAC')\n",
    "    print(\"Best pac for k =\",k,best_params_pac,best_score_pac)\n",
    "    best_params_log,best_score_log = cross_validate_train(X_train,y_train,k,'log')\n",
    "    print(\"Best log for k =\",k,best_params_log,best_score_log)\n",
    "    best_params_rf,best_score_rf = cross_validate_train(X_train,y_train,k,'random_forest')\n",
    "    print(\"Best rf for k =\",k,best_params_rf,best_score_rf)\n"
   ]
  },
  {
   "cell_type": "code",
   "execution_count": 17,
   "id": "2231c200",
   "metadata": {},
   "outputs": [
    {
     "name": "stdout",
     "output_type": "stream",
     "text": [
      "Fitting 5 folds for each of 8 candidates, totalling 40 fits\n",
      "Best svc for k = 5 {'C': 100, 'kernel': 'rbf'} 0.8806923924548713\n",
      "Fitting 5 folds for each of 3 candidates, totalling 15 fits\n",
      "Best pac for k = 5 {'C': 0.1} 0.8025160263933359\n",
      "Fitting 5 folds for each of 5 candidates, totalling 25 fits\n",
      "Best log for k = 5 {'C': 10} 0.8211287660270706\n",
      "Fitting 5 folds for each of 3 candidates, totalling 15 fits\n",
      "Best rf for k = 5 {'n_estimators': 300} 0.8672489957030336\n",
      "Fitting 6 folds for each of 8 candidates, totalling 48 fits\n",
      "Best svc for k = 6 {'C': 100, 'kernel': 'rbf'} 0.88159400940476\n",
      "Fitting 6 folds for each of 3 candidates, totalling 18 fits\n",
      "Best pac for k = 6 {'C': 0.1} 0.7629077965049634\n",
      "Fitting 6 folds for each of 5 candidates, totalling 30 fits\n",
      "Best log for k = 6 {'C': 10} 0.8212691397850613\n",
      "Fitting 6 folds for each of 3 candidates, totalling 18 fits\n",
      "Best rf for k = 6 {'n_estimators': 300} 0.8691524343727428\n",
      "Fitting 7 folds for each of 8 candidates, totalling 56 fits\n",
      "Best svc for k = 7 {'C': 100, 'kernel': 'rbf'} 0.8815538646888756\n",
      "Fitting 7 folds for each of 3 candidates, totalling 21 fits\n",
      "Best pac for k = 7 {'C': 0.1} 0.7744492491476944\n",
      "Fitting 7 folds for each of 5 candidates, totalling 35 fits\n",
      "Best log for k = 7 {'C': 10} 0.8216897750124955\n",
      "Fitting 7 folds for each of 3 candidates, totalling 21 fits\n",
      "Best rf for k = 7 {'n_estimators': 300} 0.8697934784926709\n"
     ]
    }
   ],
   "source": [
    "ix = [5,6,7]\n",
    "for i in ix:\n",
    "    search_models(i)"
   ]
  },
  {
   "cell_type": "code",
   "execution_count": 18,
   "id": "7e9226a7",
   "metadata": {},
   "outputs": [
    {
     "name": "stdout",
     "output_type": "stream",
     "text": [
      "done\n",
      "done\n",
      "done\n",
      "done\n"
     ]
    }
   ],
   "source": [
    "import pickle\n",
    "#Creating each classifier\n",
    "svm_classifier = SVC(C = 100,kernel = 'rbf')\n",
    "log_classifier = LogisticRegression(C = 100,max_iter = 2000)\n",
    "rf_classifier = RandomForestClassifier(n_estimators = 300)\n",
    "pac_classifier = PassiveAggressiveClassifier(C = 10)\n",
    "\n",
    "clf_list = [svm_classifier,log_classifier,rf_classifier,pac_classifier]\n",
    "clf_names = [\"SVM\",\"Logistic Regression\",\"Random Forest\",\"Passive Agressive Classifier\"]\n",
    "for i in range(len(clf_list)):\n",
    "    clf_list[i].fit(X_train,y_train)\n",
    "    filename = \"embedding_clfs/\" + clf_names[i] + \".sav\"\n",
    "    pickle.dump(clf_list[i], open(filename, 'wb'))\n",
    "    print(\"done\")"
   ]
  },
  {
   "cell_type": "code",
   "execution_count": 17,
   "id": "2e339808",
   "metadata": {},
   "outputs": [],
   "source": [
    "from sklearn import metrics\n",
    "\n",
    "\n",
    "#Training the best models\n",
    "def evaluate(model_name,model,test_set,test_labels):\n",
    "    predicted = model.predict(test_set)\n",
    "    print(model_name + \"Accuracy:\",metrics.accuracy_score(test_labels, predicted))\n",
    "    print(model_name +\"Precision:\",metrics.precision_score(test_labels, predicted))\n",
    "    print(model_name +\"Recall:\",metrics.recall_score(test_labels, predicted))\n",
    "    print(model_name +\"Matthews Coefficient:\",metrics.matthews_corrcoef(test_labels, predicted))"
   ]
  },
  {
   "cell_type": "code",
   "execution_count": 20,
   "id": "9ae8bd32",
   "metadata": {},
   "outputs": [
    {
     "name": "stdout",
     "output_type": "stream",
     "text": [
      "<class 'list'>\n",
      "SVMAccuracy: 0.8842855998076768\n",
      "SVMPrecision: 0.8852891024647341\n",
      "SVMRecall: 0.890257209664848\n",
      "SVMMatthews Coefficient: 0.7683631520224086\n",
      "Logistic RegressionAccuracy: 0.8271496113470631\n",
      "Logistic RegressionPrecision: 0.833072590738423\n",
      "Logistic RegressionRecall: 0.8300857365549493\n",
      "Logistic RegressionMatthews Coefficient: 0.6540658536329983\n",
      "Random ForestAccuracy: 0.8792371183588429\n",
      "Random ForestPrecision: 0.8660501193317423\n",
      "Random ForestRecall: 0.9050662509742791\n",
      "Random ForestMatthews Coefficient: 0.75878522232777\n",
      "Passive Agressive ClassifierAccuracy: 0.8158506290568155\n",
      "Passive Agressive ClassifierPrecision: 0.7948717948717948\n",
      "Passive Agressive ClassifierRecall: 0.865003897116134\n",
      "Passive Agressive ClassifierMatthews Coefficient: 0.6330937781554473\n"
     ]
    }
   ],
   "source": [
    "print(type(X_test))\n",
    "for i in range(len(clf_list)):\n",
    "    evaluate(clf_names[i],clf_list[i],X_test,y_test)"
   ]
  },
  {
   "cell_type": "code",
   "execution_count": 23,
   "id": "eb0a6fb4",
   "metadata": {},
   "outputs": [
    {
     "name": "stdout",
     "output_type": "stream",
     "text": [
      "Fitting 5 folds for each of 100 candidates, totalling 500 fits\n",
      "{'var_smoothing': 0.0004328761281083057} 0.7078917509796707\n",
      "Fitting 6 folds for each of 100 candidates, totalling 600 fits\n",
      "{'var_smoothing': 1e-05} 0.7077716206137601\n",
      "Fitting 7 folds for each of 100 candidates, totalling 700 fits\n",
      "{'var_smoothing': 0.0002848035868435802} 0.7079518901797741\n"
     ]
    }
   ],
   "source": [
    "for i in ix:\n",
    "    best_nb_score,best_nb_params = cross_validate_train(X_train,y_train,i,'NB')\n",
    "    print(best_nb_score,best_nb_params)"
   ]
  },
  {
   "cell_type": "code",
   "execution_count": 28,
   "id": "d3ebbbdb",
   "metadata": {},
   "outputs": [
    {
     "name": "stdout",
     "output_type": "stream",
     "text": [
      "Naive BayesAccuracy: 0.7111948072762241\n",
      "Naive BayesPrecision: 0.7583164859400845\n",
      "Naive BayesRecall: 0.6431800467653936\n",
      "Naive BayesMatthews Coefficient: 0.4296909884731936\n"
     ]
    }
   ],
   "source": [
    "model = GaussianNB(var_smoothing = 0.0003)\n",
    "model.fit(X_train,y_train)\n",
    "filename = \"embedding_clfs/naive_bayes.sav\"\n",
    "pickle.dump(model, open(filename, 'wb'))\n",
    "evaluate(\"Naive Bayes\",model,X_test,y_test)"
   ]
  },
  {
   "cell_type": "markdown",
   "id": "ce5b9464",
   "metadata": {},
   "source": [
    "Testing on new data"
   ]
  },
  {
   "cell_type": "code",
   "execution_count": 15,
   "id": "203e25b1",
   "metadata": {},
   "outputs": [
    {
     "data": {
      "text/plain": [
       "VotingClassifier(estimators=[('SVM', SVC(C=100)),\n",
       "                             ('RF', RandomForestClassifier(n_estimators=300))])"
      ]
     },
     "execution_count": 15,
     "metadata": {},
     "output_type": "execute_result"
    }
   ],
   "source": [
    "from sklearn.ensemble import VotingClassifier\n",
    "\n",
    "svm_classifier = SVC(C = 100,kernel = 'rbf')\n",
    "log_classifier = LogisticRegression(C = 10,max_iter = 2000)\n",
    "rf_classifier = RandomForestClassifier(n_estimators = 300)\n",
    "pac_classifier = PassiveAggressiveClassifier(C = 0.1)\n",
    "nb_classifier = GaussianNB(var_smoothing = 0.0003)\n",
    "ens_list = [('SVM',svm_classifier),('RF',rf_classifier)]\n",
    "vot_hard = VotingClassifier(estimators = ens_list, voting ='hard')\n",
    "vot_hard.fit(X_train, y_train)\n"
   ]
  },
  {
   "cell_type": "code",
   "execution_count": 19,
   "id": "5234d4e2",
   "metadata": {},
   "outputs": [
    {
     "name": "stdout",
     "output_type": "stream",
     "text": [
      "Hard voting classifierAccuracy: 0.8717845981248498\n",
      "Hard voting classifierPrecision: 0.9059180576631259\n",
      "Hard voting classifierRecall: 0.8375681995323461\n",
      "Hard voting classifierMatthews Coefficient: 0.7461673581613508\n"
     ]
    }
   ],
   "source": [
    "evaluate(\"Hard voting classifier\",vot_hard,X_test,y_test)"
   ]
  },
  {
   "cell_type": "code",
   "execution_count": 18,
   "id": "91834617",
   "metadata": {},
   "outputs": [],
   "source": [
    "import pickle\n",
    "filename = \"embedding_clfs/voting.sav\"\n",
    "pickle.dump(vot_hard, open(filename, 'wb'))"
   ]
  },
  {
   "cell_type": "code",
   "execution_count": null,
   "id": "98dc959b",
   "metadata": {},
   "outputs": [],
   "source": []
  }
 ],
 "metadata": {
  "kernelspec": {
   "display_name": "Python 3 (ipykernel)",
   "language": "python",
   "name": "python3"
  },
  "language_info": {
   "codemirror_mode": {
    "name": "ipython",
    "version": 3
   },
   "file_extension": ".py",
   "mimetype": "text/x-python",
   "name": "python",
   "nbconvert_exporter": "python",
   "pygments_lexer": "ipython3",
   "version": "3.9.12"
  }
 },
 "nbformat": 4,
 "nbformat_minor": 5
}
